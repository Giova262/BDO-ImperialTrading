{
 "cells": [
  {
   "cell_type": "code",
   "execution_count": 266,
   "metadata": {},
   "outputs": [],
   "source": [
    "#Imports\n",
    "%matplotlib inline\n",
    "import math \n",
    "import numpy as np\n",
    "import pandas as pd\n",
    "import seaborn as sns\n",
    "import matplotlib.pyplot as plt\n",
    "pd.set_option('display.max_columns', 100)\n",
    "pd.set_option('display.float_format', '{:.2f}'.format)\n",
    "from sklearn.preprocessing import Imputer\n",
    "from sklearn.model_selection import train_test_split\n",
    "from sklearn.dummy import DummyRegressor\n",
    "from sklearn.linear_model import LinearRegression\n",
    "from sklearn.tree import DecisionTreeRegressor\n",
    "from sklearn import linear_model\n",
    "from sklearn.linear_model import LinearRegression\n",
    "from sklearn.ensemble import RandomForestRegressor\n",
    "from sklearn.ensemble import VotingRegressor\n",
    "from sklearn.neighbors import KNeighborsRegressor\n",
    "from sklearn.ensemble import GradientBoostingRegressor\n",
    "from sklearn.metrics import mean_absolute_error\n",
    "from sklearn.model_selection import RandomizedSearchCV\n",
    "from sklearn.ensemble import ExtraTreesRegressor\n",
    "from sklearn.linear_model import Perceptron\n",
    "from sklearn.ensemble import RandomForestClassifier\n",
    "from sklearn.datasets import make_classification\n",
    "import category_encoders as ce"
   ]
  },
  {
   "cell_type": "code",
   "execution_count": 267,
   "metadata": {},
   "outputs": [],
   "source": [
    "# Carga de datos.\n",
    "train =  pd.read_csv('./ComercioExteriorSetDeDatos.csv', encoding='latin-1',dtype={\n",
    "             \"Channel\":'category'\n",
    "            ,\"Día\":'category'\n",
    "            ,\"Hora\":str \n",
    "            ,\"Periodo del Dia\": 'category'\n",
    "            })\n",
    "\n",
    "a = train"
   ]
  },
  {
   "cell_type": "code",
   "execution_count": 268,
   "metadata": {},
   "outputs": [],
   "source": [
    "features = [ 'Hora',\n",
    "              'Balenos',\n",
    "              'Serendia',\n",
    "              'Calpheon ',\n",
    "              'Mediah',\n",
    "              'Valencia',\n",
    "              'Margoria',\n",
    "              'Kamasilvia',\n",
    "              'Drieghan',\n",
    "             'Día_1_oh',\n",
    "             'Día_2_oh',\n",
    "             'Día_3_oh',\n",
    "             'Periodo del Dia_1_oh',\n",
    "             'Periodo del Dia_2_oh',\n",
    "             'Periodo del Dia_3_oh',\n",
    "             'Periodo del Dia_4_oh',\n",
    "             'Periodo del Dia_5_oh',\n",
    "             'Periodo del Dia_6_oh'\n",
    "               ]  # 18\n",
    "    \n",
    "features2 = [ 'Hora',\n",
    "              'Margoria',\n",
    "             'Día_1_oh',\n",
    "             'Día_2_oh',\n",
    "             'Día_3_oh',\n",
    "             'Periodo del Dia_1_oh',\n",
    "             'Periodo del Dia_2_oh',\n",
    "             'Periodo del Dia_3_oh',\n",
    "             'Periodo del Dia_4_oh',\n",
    "             'Periodo del Dia_5_oh',\n",
    "             'Periodo del Dia_6_oh'\n",
    "               ]  # 11\n",
    "        \n",
    "features3 = [ 'Hora',\n",
    "              'Mediah',\n",
    "             'Día_1_oh',\n",
    "             'Día_2_oh',\n",
    "             'Día_3_oh',\n",
    "             'Periodo del Dia_1_oh',\n",
    "             'Periodo del Dia_2_oh',\n",
    "             'Periodo del Dia_3_oh',\n",
    "             'Periodo del Dia_4_oh',\n",
    "             'Periodo del Dia_5_oh',\n",
    "             'Periodo del Dia_6_oh'\n",
    "               ] # 11\n",
    "\n",
    "features4 = [ 'Hora',\n",
    "              'Mediah',\n",
    "             'Periodo del Dia_1_oh',\n",
    "             'Periodo del Dia_2_oh',\n",
    "             'Periodo del Dia_3_oh',\n",
    "             'Periodo del Dia_4_oh',\n",
    "             'Periodo del Dia_5_oh',\n",
    "             'Periodo del Dia_6_oh'\n",
    "               ] # 8"
   ]
  },
  {
   "cell_type": "code",
   "execution_count": 269,
   "metadata": {},
   "outputs": [
    {
     "name": "stdout",
     "output_type": "stream",
     "text": [
      "One Hot encoding done!\n"
     ]
    }
   ],
   "source": [
    "#One hot encoding\n",
    "one_hot_enc = ce.OneHotEncoder()\n",
    "one_hot_encoded = one_hot_enc.fit_transform(a[['Día','Periodo del Dia']])\n",
    "a= a.join(one_hot_encoded.add_suffix(\"_oh\"))\n",
    "\n",
    "print('One Hot encoding done!')"
   ]
  },
  {
   "cell_type": "code",
   "execution_count": 270,
   "metadata": {},
   "outputs": [],
   "source": [
    "#transformaciones\n",
    "\n",
    "a['Fecha'] = pd.to_datetime(a['Fecha'])\n",
    "a['Hora'] = pd.to_datetime(a['Hora'])\n",
    "\n",
    "a['Hora'] = a.Hora.dt.hour"
   ]
  },
  {
   "cell_type": "code",
   "execution_count": 271,
   "metadata": {},
   "outputs": [],
   "source": [
    "#Separo el set \n",
    "\n",
    "X = a[features4]\n",
    "\n",
    "y = a['Channel']\n",
    "\n",
    "# No separo el set para luego ver el resultado por aun tengo muy pocos datos\n",
    "#X_train, X_test, y_train, y_test = train_test_split(X, y, test_size=0.1,random_state=1)"
   ]
  },
  {
   "cell_type": "code",
   "execution_count": 272,
   "metadata": {},
   "outputs": [
    {
     "name": "stdout",
     "output_type": "stream",
     "text": [
      "['Balenos 1']\n"
     ]
    }
   ],
   "source": [
    "#Modelo\n",
    "clf = RandomForestClassifier( random_state=0,bootstrap =False,min_samples_leaf=2 ,n_jobs=-1,\n",
    "                             max_depth = 100,max_features =8,min_samples_split = 2 ,\n",
    "                             n_estimators = 175 )\n",
    "#Entrenamiento\n",
    "model = clf.fit(X, y)\n",
    "\n",
    "#Prediccion\n",
    "\n",
    "#print(clf.predict([[ 20,2, 0, 0, 1, 0, 0, 0, 0, 0, 1]]))\n",
    "print(clf.predict([[ 20,2, 0, 0, 0, 0, 0, 1]]))\n",
    "#print(clf.predict([[20,2, 0, 0, 0, 0, 0, 1]]))"
   ]
  },
  {
   "cell_type": "code",
   "execution_count": null,
   "metadata": {},
   "outputs": [],
   "source": []
  },
  {
   "cell_type": "code",
   "execution_count": null,
   "metadata": {},
   "outputs": [],
   "source": []
  }
 ],
 "metadata": {
  "kernelspec": {
   "display_name": "Python 3",
   "language": "python",
   "name": "python3"
  },
  "language_info": {
   "codemirror_mode": {
    "name": "ipython",
    "version": 3
   },
   "file_extension": ".py",
   "mimetype": "text/x-python",
   "name": "python",
   "nbconvert_exporter": "python",
   "pygments_lexer": "ipython3",
   "version": "3.7.4"
  }
 },
 "nbformat": 4,
 "nbformat_minor": 2
}
